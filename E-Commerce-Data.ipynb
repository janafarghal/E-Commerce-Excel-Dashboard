{
 "cells": [
  {
   "cell_type": "code",
   "execution_count": 37,
   "id": "b31b08d3-f276-406e-bf6b-7dd4ba670b10",
   "metadata": {},
   "outputs": [],
   "source": [
    "import warnings\n",
    "warnings.filterwarnings(\"ignore\", category=FutureWarning)\n"
   ]
  },
  {
   "cell_type": "code",
   "execution_count": 38,
   "id": "d4addd3f-f6dd-422f-a260-aa415084aec1",
   "metadata": {
    "scrolled": true
   },
   "outputs": [],
   "source": [
    "import pandas as pd\n",
    "\n",
    "df_raw = pd.read_csv(\"E-Commerce Data.csv\", encoding='ISO-8859-1')\n"
   ]
  },
  {
   "cell_type": "code",
   "execution_count": 39,
   "id": "054f2aed-1a9c-4f29-bfa3-dd0fbcd50d4b",
   "metadata": {},
   "outputs": [
    {
     "name": "stdout",
     "output_type": "stream",
     "text": [
      "Rows: 541909, Columns: 8\n"
     ]
    }
   ],
   "source": [
    "print(f\"Rows: {df_raw.shape[0]}, Columns: {df_raw.shape[1]}\")"
   ]
  },
  {
   "cell_type": "code",
   "execution_count": 40,
   "id": "8471ebdc-497e-4fc8-ab63-26280400f6e7",
   "metadata": {},
   "outputs": [],
   "source": [
    "df_cleaned = df_raw.copy()"
   ]
  },
  {
   "cell_type": "code",
   "execution_count": 41,
   "id": "e6815415-f46a-42b5-8491-872423ae174b",
   "metadata": {},
   "outputs": [
    {
     "data": {
      "text/plain": [
       "True"
      ]
     },
     "execution_count": 41,
     "metadata": {},
     "output_type": "execute_result"
    }
   ],
   "source": [
    "df_cleaned.isnull().values.any()\n",
    "#true means there are missing values in the sheet"
   ]
  },
  {
   "cell_type": "code",
   "execution_count": 42,
   "id": "4bd45ba5-d806-4dbf-91c6-f198c7debd03",
   "metadata": {},
   "outputs": [
    {
     "name": "stdout",
     "output_type": "stream",
     "text": [
      "Rows with missing values: 135080\n"
     ]
    }
   ],
   "source": [
    "missing_row_count = df_cleaned.isnull().any(axis=1).sum()\n",
    "print(f\"Rows with missing values: {missing_row_count}\")"
   ]
  },
  {
   "cell_type": "code",
   "execution_count": 43,
   "id": "6f8666c9-856b-4ada-9d1d-46d543bd07ba",
   "metadata": {},
   "outputs": [
    {
     "data": {
      "text/plain": [
       "InvoiceNo           0\n",
       "StockCode           0\n",
       "Description      1454\n",
       "Quantity            0\n",
       "InvoiceDate         0\n",
       "UnitPrice           0\n",
       "CustomerID     135080\n",
       "Country             0\n",
       "dtype: int64"
      ]
     },
     "execution_count": 43,
     "metadata": {},
     "output_type": "execute_result"
    }
   ],
   "source": [
    "df_cleaned.isnull().sum()"
   ]
  },
  {
   "cell_type": "code",
   "execution_count": 44,
   "id": "5647034c-4850-411d-ae1b-1aa81bece462",
   "metadata": {},
   "outputs": [
    {
     "data": {
      "text/html": [
       "<div>\n",
       "<style scoped>\n",
       "    .dataframe tbody tr th:only-of-type {\n",
       "        vertical-align: middle;\n",
       "    }\n",
       "\n",
       "    .dataframe tbody tr th {\n",
       "        vertical-align: top;\n",
       "    }\n",
       "\n",
       "    .dataframe thead th {\n",
       "        text-align: right;\n",
       "    }\n",
       "</style>\n",
       "<table border=\"1\" class=\"dataframe\">\n",
       "  <thead>\n",
       "    <tr style=\"text-align: right;\">\n",
       "      <th></th>\n",
       "      <th>InvoiceNo</th>\n",
       "      <th>StockCode</th>\n",
       "      <th>Description</th>\n",
       "      <th>Quantity</th>\n",
       "      <th>InvoiceDate</th>\n",
       "      <th>UnitPrice</th>\n",
       "      <th>CustomerID</th>\n",
       "      <th>Country</th>\n",
       "    </tr>\n",
       "  </thead>\n",
       "  <tbody>\n",
       "    <tr>\n",
       "      <th>622</th>\n",
       "      <td>536414</td>\n",
       "      <td>22139</td>\n",
       "      <td>NaN</td>\n",
       "      <td>56</td>\n",
       "      <td>12/1/2010 11:52</td>\n",
       "      <td>0.00</td>\n",
       "      <td>NaN</td>\n",
       "      <td>United Kingdom</td>\n",
       "    </tr>\n",
       "    <tr>\n",
       "      <th>1443</th>\n",
       "      <td>536544</td>\n",
       "      <td>21773</td>\n",
       "      <td>DECORATIVE ROSE BATHROOM BOTTLE</td>\n",
       "      <td>1</td>\n",
       "      <td>12/1/2010 14:32</td>\n",
       "      <td>2.51</td>\n",
       "      <td>NaN</td>\n",
       "      <td>United Kingdom</td>\n",
       "    </tr>\n",
       "    <tr>\n",
       "      <th>1444</th>\n",
       "      <td>536544</td>\n",
       "      <td>21774</td>\n",
       "      <td>DECORATIVE CATS BATHROOM BOTTLE</td>\n",
       "      <td>2</td>\n",
       "      <td>12/1/2010 14:32</td>\n",
       "      <td>2.51</td>\n",
       "      <td>NaN</td>\n",
       "      <td>United Kingdom</td>\n",
       "    </tr>\n",
       "    <tr>\n",
       "      <th>1445</th>\n",
       "      <td>536544</td>\n",
       "      <td>21786</td>\n",
       "      <td>POLKADOT RAIN HAT</td>\n",
       "      <td>4</td>\n",
       "      <td>12/1/2010 14:32</td>\n",
       "      <td>0.85</td>\n",
       "      <td>NaN</td>\n",
       "      <td>United Kingdom</td>\n",
       "    </tr>\n",
       "    <tr>\n",
       "      <th>1446</th>\n",
       "      <td>536544</td>\n",
       "      <td>21787</td>\n",
       "      <td>RAIN PONCHO RETROSPOT</td>\n",
       "      <td>2</td>\n",
       "      <td>12/1/2010 14:32</td>\n",
       "      <td>1.66</td>\n",
       "      <td>NaN</td>\n",
       "      <td>United Kingdom</td>\n",
       "    </tr>\n",
       "  </tbody>\n",
       "</table>\n",
       "</div>"
      ],
      "text/plain": [
       "     InvoiceNo StockCode                      Description  Quantity  \\\n",
       "622     536414     22139                              NaN        56   \n",
       "1443    536544     21773  DECORATIVE ROSE BATHROOM BOTTLE         1   \n",
       "1444    536544     21774  DECORATIVE CATS BATHROOM BOTTLE         2   \n",
       "1445    536544     21786               POLKADOT RAIN HAT          4   \n",
       "1446    536544     21787            RAIN PONCHO RETROSPOT         2   \n",
       "\n",
       "          InvoiceDate  UnitPrice  CustomerID         Country  \n",
       "622   12/1/2010 11:52       0.00         NaN  United Kingdom  \n",
       "1443  12/1/2010 14:32       2.51         NaN  United Kingdom  \n",
       "1444  12/1/2010 14:32       2.51         NaN  United Kingdom  \n",
       "1445  12/1/2010 14:32       0.85         NaN  United Kingdom  \n",
       "1446  12/1/2010 14:32       1.66         NaN  United Kingdom  "
      ]
     },
     "execution_count": 44,
     "metadata": {},
     "output_type": "execute_result"
    }
   ],
   "source": [
    "df_missing_rows = df_cleaned[df_cleaned.isnull().any(axis=1)]\n",
    "df_missing_rows.head()"
   ]
  },
  {
   "cell_type": "code",
   "execution_count": 45,
   "id": "210f4e75-19b9-47c0-9c2a-51c557467cca",
   "metadata": {},
   "outputs": [
    {
     "name": "stdout",
     "output_type": "stream",
     "text": [
      "Number of rows with '?' in the Description: 82\n"
     ]
    }
   ],
   "source": [
    "count_question_mark = df_cleaned['Description'].str.contains('\\?', na=False).sum()\n",
    "print(f\"Number of rows with '?' in the Description: {count_question_mark}\")"
   ]
  },
  {
   "cell_type": "markdown",
   "id": "1dfccda2-2075-4fbb-8c74-d64907477178",
   "metadata": {},
   "source": [
    "will keep rows with blank customer ID because they provide other useful info but will filter them from customer KPIs"
   ]
  },
  {
   "cell_type": "markdown",
   "id": "7931635c-d306-4335-adab-92e7578555bf",
   "metadata": {},
   "source": [
    "## Remove fully duplicate rows"
   ]
  },
  {
   "cell_type": "code",
   "execution_count": 46,
   "id": "d2879531-271a-45d8-92a1-70be27ac1211",
   "metadata": {},
   "outputs": [
    {
     "name": "stdout",
     "output_type": "stream",
     "text": [
      "Exact duplicate rows: 10147\n"
     ]
    }
   ],
   "source": [
    "duplicates = df_cleaned[df_cleaned.duplicated(keep=False)]\n",
    "print(f\"Exact duplicate rows: {len(duplicates)}\")"
   ]
  },
  {
   "cell_type": "code",
   "execution_count": 47,
   "id": "52026d59-7950-44f2-82d1-19b5aacaab15",
   "metadata": {
    "scrolled": true
   },
   "outputs": [
    {
     "data": {
      "text/html": [
       "<div>\n",
       "<style scoped>\n",
       "    .dataframe tbody tr th:only-of-type {\n",
       "        vertical-align: middle;\n",
       "    }\n",
       "\n",
       "    .dataframe tbody tr th {\n",
       "        vertical-align: top;\n",
       "    }\n",
       "\n",
       "    .dataframe thead th {\n",
       "        text-align: right;\n",
       "    }\n",
       "</style>\n",
       "<table border=\"1\" class=\"dataframe\">\n",
       "  <thead>\n",
       "    <tr style=\"text-align: right;\">\n",
       "      <th></th>\n",
       "      <th>InvoiceNo</th>\n",
       "      <th>StockCode</th>\n",
       "      <th>Description</th>\n",
       "      <th>Quantity</th>\n",
       "      <th>InvoiceDate</th>\n",
       "      <th>UnitPrice</th>\n",
       "      <th>CustomerID</th>\n",
       "      <th>Country</th>\n",
       "    </tr>\n",
       "  </thead>\n",
       "  <tbody>\n",
       "    <tr>\n",
       "      <th>494</th>\n",
       "      <td>536409</td>\n",
       "      <td>21866</td>\n",
       "      <td>UNION JACK FLAG LUGGAGE TAG</td>\n",
       "      <td>1</td>\n",
       "      <td>12/1/2010 11:45</td>\n",
       "      <td>1.25</td>\n",
       "      <td>17908.0</td>\n",
       "      <td>United Kingdom</td>\n",
       "    </tr>\n",
       "    <tr>\n",
       "      <th>517</th>\n",
       "      <td>536409</td>\n",
       "      <td>21866</td>\n",
       "      <td>UNION JACK FLAG LUGGAGE TAG</td>\n",
       "      <td>1</td>\n",
       "      <td>12/1/2010 11:45</td>\n",
       "      <td>1.25</td>\n",
       "      <td>17908.0</td>\n",
       "      <td>United Kingdom</td>\n",
       "    </tr>\n",
       "    <tr>\n",
       "      <th>485</th>\n",
       "      <td>536409</td>\n",
       "      <td>22111</td>\n",
       "      <td>SCOTTIE DOG HOT WATER BOTTLE</td>\n",
       "      <td>1</td>\n",
       "      <td>12/1/2010 11:45</td>\n",
       "      <td>4.95</td>\n",
       "      <td>17908.0</td>\n",
       "      <td>United Kingdom</td>\n",
       "    </tr>\n",
       "    <tr>\n",
       "      <th>539</th>\n",
       "      <td>536409</td>\n",
       "      <td>22111</td>\n",
       "      <td>SCOTTIE DOG HOT WATER BOTTLE</td>\n",
       "      <td>1</td>\n",
       "      <td>12/1/2010 11:45</td>\n",
       "      <td>4.95</td>\n",
       "      <td>17908.0</td>\n",
       "      <td>United Kingdom</td>\n",
       "    </tr>\n",
       "  </tbody>\n",
       "</table>\n",
       "</div>"
      ],
      "text/plain": [
       "    InvoiceNo StockCode                   Description  Quantity  \\\n",
       "494    536409     21866   UNION JACK FLAG LUGGAGE TAG         1   \n",
       "517    536409     21866   UNION JACK FLAG LUGGAGE TAG         1   \n",
       "485    536409     22111  SCOTTIE DOG HOT WATER BOTTLE         1   \n",
       "539    536409     22111  SCOTTIE DOG HOT WATER BOTTLE         1   \n",
       "\n",
       "         InvoiceDate  UnitPrice  CustomerID         Country  \n",
       "494  12/1/2010 11:45       1.25     17908.0  United Kingdom  \n",
       "517  12/1/2010 11:45       1.25     17908.0  United Kingdom  \n",
       "485  12/1/2010 11:45       4.95     17908.0  United Kingdom  \n",
       "539  12/1/2010 11:45       4.95     17908.0  United Kingdom  "
      ]
     },
     "execution_count": 47,
     "metadata": {},
     "output_type": "execute_result"
    }
   ],
   "source": [
    "duplicates = duplicates.sort_values(by=list(df_cleaned.columns))\n",
    "duplicates.head(4)  # Show example of 2 duplicate pairs"
   ]
  },
  {
   "cell_type": "code",
   "execution_count": 48,
   "id": "a39c22da-90ba-424d-90bc-ccc4074150ec",
   "metadata": {},
   "outputs": [
    {
     "name": "stdout",
     "output_type": "stream",
     "text": [
      "Remaining duplicates: 0\n"
     ]
    }
   ],
   "source": [
    "df_cleaned = df_cleaned.drop_duplicates(keep='first')\n",
    "print(f\"Remaining duplicates: {df_cleaned.duplicated().sum()}\")\n",
    "# Removing extra duplicated rows but keeping the first occurrence of each"
   ]
  },
  {
   "cell_type": "markdown",
   "id": "93a9d860-3ed6-4ee1-8eca-b2574f87b5b1",
   "metadata": {},
   "source": [
    "## Remove rows with canceled invoices\n"
   ]
  },
  {
   "cell_type": "code",
   "execution_count": 49,
   "id": "8574181f-b2d7-440c-a7ba-128e2e21ea34",
   "metadata": {
    "scrolled": true
   },
   "outputs": [
    {
     "data": {
      "text/html": [
       "<div>\n",
       "<style scoped>\n",
       "    .dataframe tbody tr th:only-of-type {\n",
       "        vertical-align: middle;\n",
       "    }\n",
       "\n",
       "    .dataframe tbody tr th {\n",
       "        vertical-align: top;\n",
       "    }\n",
       "\n",
       "    .dataframe thead th {\n",
       "        text-align: right;\n",
       "    }\n",
       "</style>\n",
       "<table border=\"1\" class=\"dataframe\">\n",
       "  <thead>\n",
       "    <tr style=\"text-align: right;\">\n",
       "      <th></th>\n",
       "      <th>InvoiceNo</th>\n",
       "      <th>StockCode</th>\n",
       "      <th>Description</th>\n",
       "      <th>Quantity</th>\n",
       "      <th>InvoiceDate</th>\n",
       "      <th>UnitPrice</th>\n",
       "      <th>CustomerID</th>\n",
       "      <th>Country</th>\n",
       "    </tr>\n",
       "  </thead>\n",
       "  <tbody>\n",
       "    <tr>\n",
       "      <th>141</th>\n",
       "      <td>C536379</td>\n",
       "      <td>D</td>\n",
       "      <td>Discount</td>\n",
       "      <td>-1</td>\n",
       "      <td>12/1/2010 9:41</td>\n",
       "      <td>27.50</td>\n",
       "      <td>14527.0</td>\n",
       "      <td>United Kingdom</td>\n",
       "    </tr>\n",
       "    <tr>\n",
       "      <th>154</th>\n",
       "      <td>C536383</td>\n",
       "      <td>35004C</td>\n",
       "      <td>SET OF 3 COLOURED  FLYING DUCKS</td>\n",
       "      <td>-1</td>\n",
       "      <td>12/1/2010 9:49</td>\n",
       "      <td>4.65</td>\n",
       "      <td>15311.0</td>\n",
       "      <td>United Kingdom</td>\n",
       "    </tr>\n",
       "    <tr>\n",
       "      <th>235</th>\n",
       "      <td>C536391</td>\n",
       "      <td>22556</td>\n",
       "      <td>PLASTERS IN TIN CIRCUS PARADE</td>\n",
       "      <td>-12</td>\n",
       "      <td>12/1/2010 10:24</td>\n",
       "      <td>1.65</td>\n",
       "      <td>17548.0</td>\n",
       "      <td>United Kingdom</td>\n",
       "    </tr>\n",
       "    <tr>\n",
       "      <th>236</th>\n",
       "      <td>C536391</td>\n",
       "      <td>21984</td>\n",
       "      <td>PACK OF 12 PINK PAISLEY TISSUES</td>\n",
       "      <td>-24</td>\n",
       "      <td>12/1/2010 10:24</td>\n",
       "      <td>0.29</td>\n",
       "      <td>17548.0</td>\n",
       "      <td>United Kingdom</td>\n",
       "    </tr>\n",
       "    <tr>\n",
       "      <th>237</th>\n",
       "      <td>C536391</td>\n",
       "      <td>21983</td>\n",
       "      <td>PACK OF 12 BLUE PAISLEY TISSUES</td>\n",
       "      <td>-24</td>\n",
       "      <td>12/1/2010 10:24</td>\n",
       "      <td>0.29</td>\n",
       "      <td>17548.0</td>\n",
       "      <td>United Kingdom</td>\n",
       "    </tr>\n",
       "  </tbody>\n",
       "</table>\n",
       "</div>"
      ],
      "text/plain": [
       "    InvoiceNo StockCode                       Description  Quantity  \\\n",
       "141   C536379         D                          Discount        -1   \n",
       "154   C536383    35004C   SET OF 3 COLOURED  FLYING DUCKS        -1   \n",
       "235   C536391     22556    PLASTERS IN TIN CIRCUS PARADE        -12   \n",
       "236   C536391     21984  PACK OF 12 PINK PAISLEY TISSUES        -24   \n",
       "237   C536391     21983  PACK OF 12 BLUE PAISLEY TISSUES        -24   \n",
       "\n",
       "         InvoiceDate  UnitPrice  CustomerID         Country  \n",
       "141   12/1/2010 9:41      27.50     14527.0  United Kingdom  \n",
       "154   12/1/2010 9:49       4.65     15311.0  United Kingdom  \n",
       "235  12/1/2010 10:24       1.65     17548.0  United Kingdom  \n",
       "236  12/1/2010 10:24       0.29     17548.0  United Kingdom  \n",
       "237  12/1/2010 10:24       0.29     17548.0  United Kingdom  "
      ]
     },
     "execution_count": 49,
     "metadata": {},
     "output_type": "execute_result"
    }
   ],
   "source": [
    "# Show only canceled invoices (those starting with 'C')\n",
    "df_canceled = df_raw[df_raw['InvoiceNo'].astype(str).str.startswith('C')]\n",
    "\n",
    "# Preview the first few rows\n",
    "df_canceled.head()\n",
    "#quantity is negative presumably because these items are being returned"
   ]
  },
  {
   "cell_type": "code",
   "execution_count": 50,
   "id": "0556b9c6-8a04-474c-b265-428393cccdb5",
   "metadata": {},
   "outputs": [
    {
     "name": "stdout",
     "output_type": "stream",
     "text": [
      "Number of canceled orders in raw file: 9288\n"
     ]
    }
   ],
   "source": [
    "cancelled_count = df_raw['InvoiceNo'].astype(str).str.startswith('C').sum()\n",
    "\n",
    "print(f\"Number of canceled orders in raw file: {cancelled_count}\")"
   ]
  },
  {
   "cell_type": "code",
   "execution_count": 51,
   "id": "a31d7012-ca9a-4539-86d3-c978682d8e9f",
   "metadata": {},
   "outputs": [
    {
     "name": "stdout",
     "output_type": "stream",
     "text": [
      "Number of canceled orders in cleaned file: 0\n"
     ]
    }
   ],
   "source": [
    "# Remove canceled orders\n",
    "df_cleaned = df_raw[~df_raw['InvoiceNo'].astype(str).str.startswith('C')]\n",
    "\n",
    "cancelled_count = df_cleaned['InvoiceNo'].astype(str).str.startswith('C').sum()\n",
    "print(f\"Number of canceled orders in cleaned file: {cancelled_count}\")"
   ]
  },
  {
   "cell_type": "markdown",
   "id": "d15e0125-7894-4f83-828a-882933c0f97f",
   "metadata": {},
   "source": [
    "## Remove rows with quantity zero or smaller"
   ]
  },
  {
   "cell_type": "code",
   "execution_count": 52,
   "id": "19102312-9408-4a67-a821-a55eb4a8bc07",
   "metadata": {
    "scrolled": true
   },
   "outputs": [
    {
     "data": {
      "text/html": [
       "<div>\n",
       "<style scoped>\n",
       "    .dataframe tbody tr th:only-of-type {\n",
       "        vertical-align: middle;\n",
       "    }\n",
       "\n",
       "    .dataframe tbody tr th {\n",
       "        vertical-align: top;\n",
       "    }\n",
       "\n",
       "    .dataframe thead th {\n",
       "        text-align: right;\n",
       "    }\n",
       "</style>\n",
       "<table border=\"1\" class=\"dataframe\">\n",
       "  <thead>\n",
       "    <tr style=\"text-align: right;\">\n",
       "      <th></th>\n",
       "      <th>InvoiceNo</th>\n",
       "      <th>StockCode</th>\n",
       "      <th>Description</th>\n",
       "      <th>Quantity</th>\n",
       "      <th>InvoiceDate</th>\n",
       "      <th>UnitPrice</th>\n",
       "      <th>CustomerID</th>\n",
       "      <th>Country</th>\n",
       "    </tr>\n",
       "  </thead>\n",
       "  <tbody>\n",
       "    <tr>\n",
       "      <th>2406</th>\n",
       "      <td>536589</td>\n",
       "      <td>21777</td>\n",
       "      <td>NaN</td>\n",
       "      <td>-10</td>\n",
       "      <td>12/1/2010 16:50</td>\n",
       "      <td>0.0</td>\n",
       "      <td>NaN</td>\n",
       "      <td>United Kingdom</td>\n",
       "    </tr>\n",
       "    <tr>\n",
       "      <th>4347</th>\n",
       "      <td>536764</td>\n",
       "      <td>84952C</td>\n",
       "      <td>NaN</td>\n",
       "      <td>-38</td>\n",
       "      <td>12/2/2010 14:42</td>\n",
       "      <td>0.0</td>\n",
       "      <td>NaN</td>\n",
       "      <td>United Kingdom</td>\n",
       "    </tr>\n",
       "    <tr>\n",
       "      <th>7188</th>\n",
       "      <td>536996</td>\n",
       "      <td>22712</td>\n",
       "      <td>NaN</td>\n",
       "      <td>-20</td>\n",
       "      <td>12/3/2010 15:30</td>\n",
       "      <td>0.0</td>\n",
       "      <td>NaN</td>\n",
       "      <td>United Kingdom</td>\n",
       "    </tr>\n",
       "    <tr>\n",
       "      <th>7189</th>\n",
       "      <td>536997</td>\n",
       "      <td>22028</td>\n",
       "      <td>NaN</td>\n",
       "      <td>-20</td>\n",
       "      <td>12/3/2010 15:30</td>\n",
       "      <td>0.0</td>\n",
       "      <td>NaN</td>\n",
       "      <td>United Kingdom</td>\n",
       "    </tr>\n",
       "    <tr>\n",
       "      <th>7190</th>\n",
       "      <td>536998</td>\n",
       "      <td>85067</td>\n",
       "      <td>NaN</td>\n",
       "      <td>-6</td>\n",
       "      <td>12/3/2010 15:30</td>\n",
       "      <td>0.0</td>\n",
       "      <td>NaN</td>\n",
       "      <td>United Kingdom</td>\n",
       "    </tr>\n",
       "    <tr>\n",
       "      <th>...</th>\n",
       "      <td>...</td>\n",
       "      <td>...</td>\n",
       "      <td>...</td>\n",
       "      <td>...</td>\n",
       "      <td>...</td>\n",
       "      <td>...</td>\n",
       "      <td>...</td>\n",
       "      <td>...</td>\n",
       "    </tr>\n",
       "    <tr>\n",
       "      <th>535333</th>\n",
       "      <td>581210</td>\n",
       "      <td>23395</td>\n",
       "      <td>check</td>\n",
       "      <td>-26</td>\n",
       "      <td>12/7/2011 18:36</td>\n",
       "      <td>0.0</td>\n",
       "      <td>NaN</td>\n",
       "      <td>United Kingdom</td>\n",
       "    </tr>\n",
       "    <tr>\n",
       "      <th>535335</th>\n",
       "      <td>581212</td>\n",
       "      <td>22578</td>\n",
       "      <td>lost</td>\n",
       "      <td>-1050</td>\n",
       "      <td>12/7/2011 18:38</td>\n",
       "      <td>0.0</td>\n",
       "      <td>NaN</td>\n",
       "      <td>United Kingdom</td>\n",
       "    </tr>\n",
       "    <tr>\n",
       "      <th>535336</th>\n",
       "      <td>581213</td>\n",
       "      <td>22576</td>\n",
       "      <td>check</td>\n",
       "      <td>-30</td>\n",
       "      <td>12/7/2011 18:38</td>\n",
       "      <td>0.0</td>\n",
       "      <td>NaN</td>\n",
       "      <td>United Kingdom</td>\n",
       "    </tr>\n",
       "    <tr>\n",
       "      <th>536908</th>\n",
       "      <td>581226</td>\n",
       "      <td>23090</td>\n",
       "      <td>missing</td>\n",
       "      <td>-338</td>\n",
       "      <td>12/8/2011 9:56</td>\n",
       "      <td>0.0</td>\n",
       "      <td>NaN</td>\n",
       "      <td>United Kingdom</td>\n",
       "    </tr>\n",
       "    <tr>\n",
       "      <th>538919</th>\n",
       "      <td>581422</td>\n",
       "      <td>23169</td>\n",
       "      <td>smashed</td>\n",
       "      <td>-235</td>\n",
       "      <td>12/8/2011 15:24</td>\n",
       "      <td>0.0</td>\n",
       "      <td>NaN</td>\n",
       "      <td>United Kingdom</td>\n",
       "    </tr>\n",
       "  </tbody>\n",
       "</table>\n",
       "<p>1336 rows × 8 columns</p>\n",
       "</div>"
      ],
      "text/plain": [
       "       InvoiceNo StockCode Description  Quantity      InvoiceDate  UnitPrice  \\\n",
       "2406      536589     21777         NaN       -10  12/1/2010 16:50        0.0   \n",
       "4347      536764    84952C         NaN       -38  12/2/2010 14:42        0.0   \n",
       "7188      536996     22712         NaN       -20  12/3/2010 15:30        0.0   \n",
       "7189      536997     22028         NaN       -20  12/3/2010 15:30        0.0   \n",
       "7190      536998     85067         NaN        -6  12/3/2010 15:30        0.0   \n",
       "...          ...       ...         ...       ...              ...        ...   \n",
       "535333    581210     23395       check       -26  12/7/2011 18:36        0.0   \n",
       "535335    581212     22578        lost     -1050  12/7/2011 18:38        0.0   \n",
       "535336    581213     22576       check       -30  12/7/2011 18:38        0.0   \n",
       "536908    581226     23090     missing      -338   12/8/2011 9:56        0.0   \n",
       "538919    581422     23169     smashed      -235  12/8/2011 15:24        0.0   \n",
       "\n",
       "        CustomerID         Country  \n",
       "2406           NaN  United Kingdom  \n",
       "4347           NaN  United Kingdom  \n",
       "7188           NaN  United Kingdom  \n",
       "7189           NaN  United Kingdom  \n",
       "7190           NaN  United Kingdom  \n",
       "...            ...             ...  \n",
       "535333         NaN  United Kingdom  \n",
       "535335         NaN  United Kingdom  \n",
       "535336         NaN  United Kingdom  \n",
       "536908         NaN  United Kingdom  \n",
       "538919         NaN  United Kingdom  \n",
       "\n",
       "[1336 rows x 8 columns]"
      ]
     },
     "execution_count": 52,
     "metadata": {},
     "output_type": "execute_result"
    }
   ],
   "source": [
    "df_cleaned[df_cleaned['Quantity'] <= 0]\n",
    "#1336 rows were found"
   ]
  },
  {
   "cell_type": "code",
   "execution_count": 53,
   "id": "788e6c18-5fe7-42d5-9b4a-65c76161436b",
   "metadata": {},
   "outputs": [
    {
     "name": "stdout",
     "output_type": "stream",
     "text": [
      "Number of rows with Quantity less than or equal to zero left: 0\n"
     ]
    }
   ],
   "source": [
    "df_cleaned = df_cleaned[df_cleaned['Quantity'] > 0]\n",
    "print(f\"Number of rows with Quantity less than or equal to zero left: {df_cleaned[df_cleaned['Quantity'] <= 0].shape[0]}\")"
   ]
  },
  {
   "cell_type": "markdown",
   "id": "6682dcfe-acd8-4bd0-9252-3cd35d64a92d",
   "metadata": {},
   "source": [
    "## Remove rows with unit price zero or smaller"
   ]
  },
  {
   "cell_type": "code",
   "execution_count": 54,
   "id": "7c2d4a03-1def-4ec5-81d5-0a8d2d5166d3",
   "metadata": {
    "scrolled": true
   },
   "outputs": [
    {
     "data": {
      "text/html": [
       "<div>\n",
       "<style scoped>\n",
       "    .dataframe tbody tr th:only-of-type {\n",
       "        vertical-align: middle;\n",
       "    }\n",
       "\n",
       "    .dataframe tbody tr th {\n",
       "        vertical-align: top;\n",
       "    }\n",
       "\n",
       "    .dataframe thead th {\n",
       "        text-align: right;\n",
       "    }\n",
       "</style>\n",
       "<table border=\"1\" class=\"dataframe\">\n",
       "  <thead>\n",
       "    <tr style=\"text-align: right;\">\n",
       "      <th></th>\n",
       "      <th>InvoiceNo</th>\n",
       "      <th>StockCode</th>\n",
       "      <th>Description</th>\n",
       "      <th>Quantity</th>\n",
       "      <th>InvoiceDate</th>\n",
       "      <th>UnitPrice</th>\n",
       "      <th>CustomerID</th>\n",
       "      <th>Country</th>\n",
       "    </tr>\n",
       "  </thead>\n",
       "  <tbody>\n",
       "    <tr>\n",
       "      <th>622</th>\n",
       "      <td>536414</td>\n",
       "      <td>22139</td>\n",
       "      <td>NaN</td>\n",
       "      <td>56</td>\n",
       "      <td>12/1/2010 11:52</td>\n",
       "      <td>0.0</td>\n",
       "      <td>NaN</td>\n",
       "      <td>United Kingdom</td>\n",
       "    </tr>\n",
       "    <tr>\n",
       "      <th>1970</th>\n",
       "      <td>536545</td>\n",
       "      <td>21134</td>\n",
       "      <td>NaN</td>\n",
       "      <td>1</td>\n",
       "      <td>12/1/2010 14:32</td>\n",
       "      <td>0.0</td>\n",
       "      <td>NaN</td>\n",
       "      <td>United Kingdom</td>\n",
       "    </tr>\n",
       "    <tr>\n",
       "      <th>1971</th>\n",
       "      <td>536546</td>\n",
       "      <td>22145</td>\n",
       "      <td>NaN</td>\n",
       "      <td>1</td>\n",
       "      <td>12/1/2010 14:33</td>\n",
       "      <td>0.0</td>\n",
       "      <td>NaN</td>\n",
       "      <td>United Kingdom</td>\n",
       "    </tr>\n",
       "    <tr>\n",
       "      <th>1972</th>\n",
       "      <td>536547</td>\n",
       "      <td>37509</td>\n",
       "      <td>NaN</td>\n",
       "      <td>1</td>\n",
       "      <td>12/1/2010 14:33</td>\n",
       "      <td>0.0</td>\n",
       "      <td>NaN</td>\n",
       "      <td>United Kingdom</td>\n",
       "    </tr>\n",
       "    <tr>\n",
       "      <th>1987</th>\n",
       "      <td>536549</td>\n",
       "      <td>85226A</td>\n",
       "      <td>NaN</td>\n",
       "      <td>1</td>\n",
       "      <td>12/1/2010 14:34</td>\n",
       "      <td>0.0</td>\n",
       "      <td>NaN</td>\n",
       "      <td>United Kingdom</td>\n",
       "    </tr>\n",
       "    <tr>\n",
       "      <th>...</th>\n",
       "      <td>...</td>\n",
       "      <td>...</td>\n",
       "      <td>...</td>\n",
       "      <td>...</td>\n",
       "      <td>...</td>\n",
       "      <td>...</td>\n",
       "      <td>...</td>\n",
       "      <td>...</td>\n",
       "    </tr>\n",
       "    <tr>\n",
       "      <th>535334</th>\n",
       "      <td>581211</td>\n",
       "      <td>22142</td>\n",
       "      <td>check</td>\n",
       "      <td>14</td>\n",
       "      <td>12/7/2011 18:36</td>\n",
       "      <td>0.0</td>\n",
       "      <td>NaN</td>\n",
       "      <td>United Kingdom</td>\n",
       "    </tr>\n",
       "    <tr>\n",
       "      <th>536981</th>\n",
       "      <td>581234</td>\n",
       "      <td>72817</td>\n",
       "      <td>NaN</td>\n",
       "      <td>27</td>\n",
       "      <td>12/8/2011 10:33</td>\n",
       "      <td>0.0</td>\n",
       "      <td>NaN</td>\n",
       "      <td>United Kingdom</td>\n",
       "    </tr>\n",
       "    <tr>\n",
       "      <th>538504</th>\n",
       "      <td>581406</td>\n",
       "      <td>46000M</td>\n",
       "      <td>POLYESTER FILLER PAD 45x45cm</td>\n",
       "      <td>240</td>\n",
       "      <td>12/8/2011 13:58</td>\n",
       "      <td>0.0</td>\n",
       "      <td>NaN</td>\n",
       "      <td>United Kingdom</td>\n",
       "    </tr>\n",
       "    <tr>\n",
       "      <th>538505</th>\n",
       "      <td>581406</td>\n",
       "      <td>46000S</td>\n",
       "      <td>POLYESTER FILLER PAD 40x40cm</td>\n",
       "      <td>300</td>\n",
       "      <td>12/8/2011 13:58</td>\n",
       "      <td>0.0</td>\n",
       "      <td>NaN</td>\n",
       "      <td>United Kingdom</td>\n",
       "    </tr>\n",
       "    <tr>\n",
       "      <th>538554</th>\n",
       "      <td>581408</td>\n",
       "      <td>85175</td>\n",
       "      <td>NaN</td>\n",
       "      <td>20</td>\n",
       "      <td>12/8/2011 14:06</td>\n",
       "      <td>0.0</td>\n",
       "      <td>NaN</td>\n",
       "      <td>United Kingdom</td>\n",
       "    </tr>\n",
       "  </tbody>\n",
       "</table>\n",
       "<p>1181 rows × 8 columns</p>\n",
       "</div>"
      ],
      "text/plain": [
       "       InvoiceNo StockCode                   Description  Quantity  \\\n",
       "622       536414     22139                           NaN        56   \n",
       "1970      536545     21134                           NaN         1   \n",
       "1971      536546     22145                           NaN         1   \n",
       "1972      536547     37509                           NaN         1   \n",
       "1987      536549    85226A                           NaN         1   \n",
       "...          ...       ...                           ...       ...   \n",
       "535334    581211     22142                         check        14   \n",
       "536981    581234     72817                           NaN        27   \n",
       "538504    581406    46000M  POLYESTER FILLER PAD 45x45cm       240   \n",
       "538505    581406    46000S  POLYESTER FILLER PAD 40x40cm       300   \n",
       "538554    581408     85175                           NaN        20   \n",
       "\n",
       "            InvoiceDate  UnitPrice  CustomerID         Country  \n",
       "622     12/1/2010 11:52        0.0         NaN  United Kingdom  \n",
       "1970    12/1/2010 14:32        0.0         NaN  United Kingdom  \n",
       "1971    12/1/2010 14:33        0.0         NaN  United Kingdom  \n",
       "1972    12/1/2010 14:33        0.0         NaN  United Kingdom  \n",
       "1987    12/1/2010 14:34        0.0         NaN  United Kingdom  \n",
       "...                 ...        ...         ...             ...  \n",
       "535334  12/7/2011 18:36        0.0         NaN  United Kingdom  \n",
       "536981  12/8/2011 10:33        0.0         NaN  United Kingdom  \n",
       "538504  12/8/2011 13:58        0.0         NaN  United Kingdom  \n",
       "538505  12/8/2011 13:58        0.0         NaN  United Kingdom  \n",
       "538554  12/8/2011 14:06        0.0         NaN  United Kingdom  \n",
       "\n",
       "[1181 rows x 8 columns]"
      ]
     },
     "execution_count": 54,
     "metadata": {},
     "output_type": "execute_result"
    }
   ],
   "source": [
    "df_cleaned[df_cleaned['UnitPrice'] <= 0]\n",
    "#2512 rows with unit price = 0 "
   ]
  },
  {
   "cell_type": "code",
   "execution_count": 55,
   "id": "761a0db0-9c52-4227-a2b1-51400d7210bd",
   "metadata": {},
   "outputs": [
    {
     "name": "stdout",
     "output_type": "stream",
     "text": [
      "Number of rows with UnitPrice less than or equal to zero left: 0\n"
     ]
    }
   ],
   "source": [
    "df_cleaned = df_cleaned[df_cleaned['UnitPrice'] > 0]\n",
    "print(f\"Number of rows with UnitPrice less than or equal to zero left: {df_cleaned[df_cleaned['UnitPrice'] <= 0].shape[0]}\")\n"
   ]
  },
  {
   "cell_type": "code",
   "execution_count": 56,
   "id": "5af173dc-dcdd-4e70-be4d-e72379d8998b",
   "metadata": {},
   "outputs": [
    {
     "name": "stdout",
     "output_type": "stream",
     "text": [
      "Number of rows with '?' in the Description: 0\n"
     ]
    }
   ],
   "source": [
    "count_question_mark = df_cleaned['Description'].str.contains('\\?', na=False).sum()\n",
    "print(f\"Number of rows with '?' in the Description: {count_question_mark}\")\n"
   ]
  },
  {
   "cell_type": "markdown",
   "id": "14e0c93e-acaa-4dee-9153-4fef216aa1ea",
   "metadata": {},
   "source": [
    "# Analysis"
   ]
  },
  {
   "cell_type": "code",
   "execution_count": 65,
   "id": "46ef727d-4759-4fe0-af18-dc54b8247a00",
   "metadata": {},
   "outputs": [
    {
     "data": {
      "text/html": [
       "<div>\n",
       "<style scoped>\n",
       "    .dataframe tbody tr th:only-of-type {\n",
       "        vertical-align: middle;\n",
       "    }\n",
       "\n",
       "    .dataframe tbody tr th {\n",
       "        vertical-align: top;\n",
       "    }\n",
       "\n",
       "    .dataframe thead th {\n",
       "        text-align: right;\n",
       "    }\n",
       "</style>\n",
       "<table border=\"1\" class=\"dataframe\">\n",
       "  <thead>\n",
       "    <tr style=\"text-align: right;\">\n",
       "      <th></th>\n",
       "      <th>Quantity</th>\n",
       "      <th>UnitPrice</th>\n",
       "      <th>TotalPrice</th>\n",
       "    </tr>\n",
       "  </thead>\n",
       "  <tbody>\n",
       "    <tr>\n",
       "      <th>0</th>\n",
       "      <td>6</td>\n",
       "      <td>2.55</td>\n",
       "      <td>15.30</td>\n",
       "    </tr>\n",
       "    <tr>\n",
       "      <th>1</th>\n",
       "      <td>6</td>\n",
       "      <td>3.39</td>\n",
       "      <td>20.34</td>\n",
       "    </tr>\n",
       "    <tr>\n",
       "      <th>2</th>\n",
       "      <td>8</td>\n",
       "      <td>2.75</td>\n",
       "      <td>22.00</td>\n",
       "    </tr>\n",
       "    <tr>\n",
       "      <th>3</th>\n",
       "      <td>6</td>\n",
       "      <td>3.39</td>\n",
       "      <td>20.34</td>\n",
       "    </tr>\n",
       "    <tr>\n",
       "      <th>4</th>\n",
       "      <td>6</td>\n",
       "      <td>3.39</td>\n",
       "      <td>20.34</td>\n",
       "    </tr>\n",
       "  </tbody>\n",
       "</table>\n",
       "</div>"
      ],
      "text/plain": [
       "   Quantity  UnitPrice  TotalPrice\n",
       "0         6       2.55       15.30\n",
       "1         6       3.39       20.34\n",
       "2         8       2.75       22.00\n",
       "3         6       3.39       20.34\n",
       "4         6       3.39       20.34"
      ]
     },
     "execution_count": 65,
     "metadata": {},
     "output_type": "execute_result"
    }
   ],
   "source": [
    "df_cleaned['TotalPrice'] = df_cleaned['Quantity'] * df_cleaned['UnitPrice']\n",
    "df_cleaned[['Quantity', 'UnitPrice', 'TotalPrice']].head()\n"
   ]
  },
  {
   "cell_type": "code",
   "execution_count": 66,
   "id": "3dbf487a-4665-410d-8456-c8cad6841782",
   "metadata": {},
   "outputs": [
    {
     "name": "stdout",
     "output_type": "stream",
     "text": [
      "Number of rows with TotalPrice = 0: 0\n"
     ]
    }
   ],
   "source": [
    "zero_total = df_cleaned[df_cleaned['TotalPrice'] == 0]\n",
    "print(f\"Number of rows with TotalPrice = 0: {zero_total.shape[0]}\")\n"
   ]
  },
  {
   "cell_type": "code",
   "execution_count": 67,
   "id": "ccdb61d4-7cb9-4a2f-9cf3-89677eca9ae9",
   "metadata": {},
   "outputs": [
    {
     "name": "stdout",
     "output_type": "stream",
     "text": [
      "💰 Total Revenue: £10,666,684.54\n"
     ]
    }
   ],
   "source": [
    "total_revenue = df_cleaned['TotalPrice'].sum()\n",
    "print(f\"💰 Total Revenue: £{total_revenue:,.2f}\")"
   ]
  },
  {
   "cell_type": "code",
   "execution_count": 68,
   "id": "9a8340fa-5ba6-40e9-800d-2d92d385b074",
   "metadata": {},
   "outputs": [
    {
     "name": "stdout",
     "output_type": "stream",
     "text": [
      "🧾 Number of Orders: 19960\n"
     ]
    }
   ],
   "source": [
    "num_orders = df_cleaned['InvoiceNo'].nunique()\n",
    "print(f\"🧾 Number of Orders: {num_orders}\")\n"
   ]
  },
  {
   "cell_type": "code",
   "execution_count": 69,
   "id": "b2d608fb-5f33-4de4-92b2-96ba96a3ed63",
   "metadata": {},
   "outputs": [
    {
     "name": "stdout",
     "output_type": "stream",
     "text": [
      "📦 Average Order Value: £534.40\n"
     ]
    }
   ],
   "source": [
    "aov = total_revenue / num_orders\n",
    "print(f\"📦 Average Order Value: £{aov:,.2f}\")"
   ]
  },
  {
   "cell_type": "code",
   "execution_count": 70,
   "id": "e3986bd3-9246-4a84-af0f-c4a97215147b",
   "metadata": {},
   "outputs": [
    {
     "name": "stdout",
     "output_type": "stream",
     "text": [
      "📊 Total Quantity Sold: 5588376\n"
     ]
    }
   ],
   "source": [
    "total_quantity = df_cleaned['Quantity'].sum()\n",
    "print(f\"📊 Total Quantity Sold: {total_quantity}\")\n"
   ]
  },
  {
   "cell_type": "code",
   "execution_count": 71,
   "id": "58456261-7dd1-4a67-b30f-fcf33e6a1f98",
   "metadata": {},
   "outputs": [
    {
     "name": "stdout",
     "output_type": "stream",
     "text": [
      "🌍 Top 5 Countries by Revenue:\n",
      "Country\n",
      "United Kingdom    9025222.084\n",
      "Netherlands        285446.340\n",
      "EIRE               283453.960\n",
      "Germany            228867.140\n",
      "France             209715.110\n",
      "Name: TotalPrice, dtype: float64\n"
     ]
    }
   ],
   "source": [
    "top_countries = df_cleaned.groupby('Country')['TotalPrice'].sum().sort_values(ascending=False).head(5)\n",
    "print(\"🌍 Top 5 Countries by Revenue:\")\n",
    "print(top_countries)\n"
   ]
  },
  {
   "cell_type": "code",
   "execution_count": 72,
   "id": "37456ed0-3d8a-47a3-b2f1-eaf38f743205",
   "metadata": {},
   "outputs": [
    {
     "name": "stdout",
     "output_type": "stream",
     "text": [
      "🏆 Top 5 Products by Units Sold:\n",
      "Description\n",
      "PAPER CRAFT , LITTLE BIRDIE           80995\n",
      "MEDIUM CERAMIC TOP STORAGE JAR        78033\n",
      "WORLD WAR 2 GLIDERS ASSTD DESIGNS     55047\n",
      "JUMBO BAG RED RETROSPOT               48474\n",
      "WHITE HANGING HEART T-LIGHT HOLDER    37891\n",
      "Name: Quantity, dtype: int64\n"
     ]
    }
   ],
   "source": [
    "top_products = df_cleaned.groupby('Description')['Quantity'].sum().sort_values(ascending=False).head(5)\n",
    "print(\"🏆 Top 5 Products by Units Sold:\")\n",
    "print(top_products)"
   ]
  },
  {
   "cell_type": "code",
   "execution_count": 73,
   "id": "e3bc476d-2fa6-48d1-950b-a5fbc4be1e31",
   "metadata": {},
   "outputs": [
    {
     "name": "stdout",
     "output_type": "stream",
     "text": [
      "     Month     Revenue\n",
      "0  2010-12  823746.140\n",
      "1  2011-01  691364.560\n",
      "2  2011-02  523631.890\n",
      "3  2011-03  717639.360\n",
      "4  2011-04  537808.621\n"
     ]
    }
   ],
   "source": [
    "df_cleaned['InvoiceDate'] = pd.to_datetime(df_cleaned['InvoiceDate'], errors='coerce')\n",
    "df_cleaned['YearMonth'] = df_cleaned['InvoiceDate'].dt.to_period('M')\n",
    "monthly_revenue = df_cleaned.groupby('YearMonth')['TotalPrice'].sum().reset_index()\n",
    "monthly_revenue.columns = ['Month', 'Revenue']\n",
    "\n",
    "print(monthly_revenue.head())"
   ]
  },
  {
   "cell_type": "code",
   "execution_count": 74,
   "id": "1bacdf45-cd2a-4373-9746-7463d3a0d840",
   "metadata": {},
   "outputs": [
    {
     "name": "stdout",
     "output_type": "stream",
     "text": [
      "     Month          Country  Revenue\n",
      "0  2010-12        Australia  1032.85\n",
      "1  2010-12          Austria   277.20\n",
      "2  2010-12          Bahrain   205.74\n",
      "3  2010-12          Belgium  1809.91\n",
      "4  2010-12  Channel Islands   363.53\n"
     ]
    }
   ],
   "source": [
    "country_month_revenue = df_cleaned.groupby(['YearMonth', 'Country'])['TotalPrice'].sum().reset_index()\n",
    "country_month_revenue.columns = ['Month', 'Country', 'Revenue']\n",
    "\n",
    "print(country_month_revenue.head())"
   ]
  },
  {
   "cell_type": "code",
   "execution_count": 75,
   "id": "cd4443fd-0d86-42ca-84a6-754118920c72",
   "metadata": {},
   "outputs": [
    {
     "data": {
      "text/html": [
       "<div>\n",
       "<style scoped>\n",
       "    .dataframe tbody tr th:only-of-type {\n",
       "        vertical-align: middle;\n",
       "    }\n",
       "\n",
       "    .dataframe tbody tr th {\n",
       "        vertical-align: top;\n",
       "    }\n",
       "\n",
       "    .dataframe thead th {\n",
       "        text-align: right;\n",
       "    }\n",
       "</style>\n",
       "<table border=\"1\" class=\"dataframe\">\n",
       "  <thead>\n",
       "    <tr style=\"text-align: right;\">\n",
       "      <th>Country</th>\n",
       "      <th>Australia</th>\n",
       "      <th>Austria</th>\n",
       "      <th>Bahrain</th>\n",
       "      <th>Belgium</th>\n",
       "      <th>Brazil</th>\n",
       "      <th>Canada</th>\n",
       "      <th>Channel Islands</th>\n",
       "      <th>Cyprus</th>\n",
       "      <th>Czech Republic</th>\n",
       "      <th>Denmark</th>\n",
       "      <th>...</th>\n",
       "      <th>RSA</th>\n",
       "      <th>Saudi Arabia</th>\n",
       "      <th>Singapore</th>\n",
       "      <th>Spain</th>\n",
       "      <th>Sweden</th>\n",
       "      <th>Switzerland</th>\n",
       "      <th>USA</th>\n",
       "      <th>United Arab Emirates</th>\n",
       "      <th>United Kingdom</th>\n",
       "      <th>Unspecified</th>\n",
       "    </tr>\n",
       "    <tr>\n",
       "      <th>Month</th>\n",
       "      <th></th>\n",
       "      <th></th>\n",
       "      <th></th>\n",
       "      <th></th>\n",
       "      <th></th>\n",
       "      <th></th>\n",
       "      <th></th>\n",
       "      <th></th>\n",
       "      <th></th>\n",
       "      <th></th>\n",
       "      <th></th>\n",
       "      <th></th>\n",
       "      <th></th>\n",
       "      <th></th>\n",
       "      <th></th>\n",
       "      <th></th>\n",
       "      <th></th>\n",
       "      <th></th>\n",
       "      <th></th>\n",
       "      <th></th>\n",
       "      <th></th>\n",
       "    </tr>\n",
       "  </thead>\n",
       "  <tbody>\n",
       "    <tr>\n",
       "      <th>2010-12</th>\n",
       "      <td>1032.85</td>\n",
       "      <td>277.20</td>\n",
       "      <td>205.74</td>\n",
       "      <td>1809.91</td>\n",
       "      <td>0.0</td>\n",
       "      <td>0.00</td>\n",
       "      <td>363.53</td>\n",
       "      <td>1590.82</td>\n",
       "      <td>0.00</td>\n",
       "      <td>1281.50</td>\n",
       "      <td>...</td>\n",
       "      <td>0.0</td>\n",
       "      <td>0.00</td>\n",
       "      <td>0.00</td>\n",
       "      <td>1843.73</td>\n",
       "      <td>3834.30</td>\n",
       "      <td>1304.92</td>\n",
       "      <td>0.00</td>\n",
       "      <td>0.00</td>\n",
       "      <td>748268.980</td>\n",
       "      <td>0.0</td>\n",
       "    </tr>\n",
       "    <tr>\n",
       "      <th>2011-01</th>\n",
       "      <td>9017.71</td>\n",
       "      <td>0.00</td>\n",
       "      <td>0.00</td>\n",
       "      <td>1200.20</td>\n",
       "      <td>0.0</td>\n",
       "      <td>0.00</td>\n",
       "      <td>675.58</td>\n",
       "      <td>547.50</td>\n",
       "      <td>0.00</td>\n",
       "      <td>0.00</td>\n",
       "      <td>...</td>\n",
       "      <td>0.0</td>\n",
       "      <td>0.00</td>\n",
       "      <td>2053.07</td>\n",
       "      <td>10086.09</td>\n",
       "      <td>3486.32</td>\n",
       "      <td>4231.23</td>\n",
       "      <td>0.00</td>\n",
       "      <td>0.00</td>\n",
       "      <td>561289.980</td>\n",
       "      <td>0.0</td>\n",
       "    </tr>\n",
       "    <tr>\n",
       "      <th>2011-02</th>\n",
       "      <td>14695.42</td>\n",
       "      <td>518.36</td>\n",
       "      <td>0.00</td>\n",
       "      <td>2181.07</td>\n",
       "      <td>0.0</td>\n",
       "      <td>0.00</td>\n",
       "      <td>1784.71</td>\n",
       "      <td>4334.24</td>\n",
       "      <td>549.26</td>\n",
       "      <td>399.22</td>\n",
       "      <td>...</td>\n",
       "      <td>0.0</td>\n",
       "      <td>145.92</td>\n",
       "      <td>0.00</td>\n",
       "      <td>2114.50</td>\n",
       "      <td>509.50</td>\n",
       "      <td>2654.92</td>\n",
       "      <td>0.00</td>\n",
       "      <td>889.24</td>\n",
       "      <td>430027.950</td>\n",
       "      <td>0.0</td>\n",
       "    </tr>\n",
       "    <tr>\n",
       "      <th>2011-03</th>\n",
       "      <td>17223.99</td>\n",
       "      <td>1708.12</td>\n",
       "      <td>0.00</td>\n",
       "      <td>3351.98</td>\n",
       "      <td>0.0</td>\n",
       "      <td>140.54</td>\n",
       "      <td>3509.33</td>\n",
       "      <td>938.39</td>\n",
       "      <td>0.00</td>\n",
       "      <td>3978.99</td>\n",
       "      <td>...</td>\n",
       "      <td>0.0</td>\n",
       "      <td>0.00</td>\n",
       "      <td>0.00</td>\n",
       "      <td>5363.15</td>\n",
       "      <td>4720.58</td>\n",
       "      <td>1870.23</td>\n",
       "      <td>0.00</td>\n",
       "      <td>0.00</td>\n",
       "      <td>586230.280</td>\n",
       "      <td>0.0</td>\n",
       "    </tr>\n",
       "    <tr>\n",
       "      <th>2011-04</th>\n",
       "      <td>771.60</td>\n",
       "      <td>680.78</td>\n",
       "      <td>0.00</td>\n",
       "      <td>1989.48</td>\n",
       "      <td>1143.6</td>\n",
       "      <td>0.00</td>\n",
       "      <td>293.00</td>\n",
       "      <td>0.00</td>\n",
       "      <td>0.00</td>\n",
       "      <td>0.00</td>\n",
       "      <td>...</td>\n",
       "      <td>0.0</td>\n",
       "      <td>0.00</td>\n",
       "      <td>8209.58</td>\n",
       "      <td>1785.65</td>\n",
       "      <td>809.10</td>\n",
       "      <td>2076.94</td>\n",
       "      <td>383.95</td>\n",
       "      <td>0.00</td>\n",
       "      <td>476517.761</td>\n",
       "      <td>299.1</td>\n",
       "    </tr>\n",
       "  </tbody>\n",
       "</table>\n",
       "<p>5 rows × 38 columns</p>\n",
       "</div>"
      ],
      "text/plain": [
       "Country  Australia  Austria  Bahrain  Belgium  Brazil  Canada  \\\n",
       "Month                                                           \n",
       "2010-12    1032.85   277.20   205.74  1809.91     0.0    0.00   \n",
       "2011-01    9017.71     0.00     0.00  1200.20     0.0    0.00   \n",
       "2011-02   14695.42   518.36     0.00  2181.07     0.0    0.00   \n",
       "2011-03   17223.99  1708.12     0.00  3351.98     0.0  140.54   \n",
       "2011-04     771.60   680.78     0.00  1989.48  1143.6    0.00   \n",
       "\n",
       "Country  Channel Islands   Cyprus  Czech Republic  Denmark  ...  RSA  \\\n",
       "Month                                                       ...        \n",
       "2010-12           363.53  1590.82            0.00  1281.50  ...  0.0   \n",
       "2011-01           675.58   547.50            0.00     0.00  ...  0.0   \n",
       "2011-02          1784.71  4334.24          549.26   399.22  ...  0.0   \n",
       "2011-03          3509.33   938.39            0.00  3978.99  ...  0.0   \n",
       "2011-04           293.00     0.00            0.00     0.00  ...  0.0   \n",
       "\n",
       "Country  Saudi Arabia  Singapore     Spain   Sweden  Switzerland     USA  \\\n",
       "Month                                                                      \n",
       "2010-12          0.00       0.00   1843.73  3834.30      1304.92    0.00   \n",
       "2011-01          0.00    2053.07  10086.09  3486.32      4231.23    0.00   \n",
       "2011-02        145.92       0.00   2114.50   509.50      2654.92    0.00   \n",
       "2011-03          0.00       0.00   5363.15  4720.58      1870.23    0.00   \n",
       "2011-04          0.00    8209.58   1785.65   809.10      2076.94  383.95   \n",
       "\n",
       "Country  United Arab Emirates  United Kingdom  Unspecified  \n",
       "Month                                                       \n",
       "2010-12                  0.00      748268.980          0.0  \n",
       "2011-01                  0.00      561289.980          0.0  \n",
       "2011-02                889.24      430027.950          0.0  \n",
       "2011-03                  0.00      586230.280          0.0  \n",
       "2011-04                  0.00      476517.761        299.1  \n",
       "\n",
       "[5 rows x 38 columns]"
      ]
     },
     "execution_count": 75,
     "metadata": {},
     "output_type": "execute_result"
    }
   ],
   "source": [
    "pivot_country_month = country_month_revenue.pivot(index='Month', columns='Country', values='Revenue').fillna(0)\n",
    "pivot_country_month.head()\n"
   ]
  },
  {
   "cell_type": "code",
   "execution_count": 85,
   "id": "071f01bc-5456-4705-87b3-8901e0f1375a",
   "metadata": {},
   "outputs": [],
   "source": [
    "import seaborn as sns\n",
    "import matplotlib.pyplot as plt"
   ]
  },
  {
   "cell_type": "code",
   "execution_count": 86,
   "id": "f19847ba-6234-4d18-b9ad-36f94e22f068",
   "metadata": {},
   "outputs": [
    {
     "name": "stdout",
     "output_type": "stream",
     "text": [
      "Month       object\n",
      "Revenue    float64\n",
      "dtype: object\n",
      "     Month     Revenue\n",
      "0  2010-12  823746.140\n",
      "1  2011-01  691364.560\n",
      "2  2011-02  523631.890\n",
      "3  2011-03  717639.360\n",
      "4  2011-04  537808.621\n"
     ]
    }
   ],
   "source": [
    "print(monthly_revenue.dtypes)\n",
    "print(monthly_revenue.head())"
   ]
  },
  {
   "cell_type": "code",
   "execution_count": 87,
   "id": "d94c206d-dbcd-4b44-8bad-89e31075288e",
   "metadata": {},
   "outputs": [],
   "source": [
    "monthly_revenue['Month'] = monthly_revenue['Month'].astype(str)"
   ]
  },
  {
   "cell_type": "code",
   "execution_count": 88,
   "id": "949829b4-0cf5-4cb7-b238-2cc2e7263bbe",
   "metadata": {},
   "outputs": [
    {
     "data": {
      "image/png": "[encoded data removed]",
      "text/plain": [
       "<Figure size 1200x600 with 1 Axes>"
      ]
     },
     "metadata": {},
     "output_type": "display_data"
    }
   ],
   "source": [
    "plt.figure(figsize=(12, 6))\n",
    "sns.lineplot(data=monthly_revenue, x='Month', y='Revenue', marker='o', color='blue')\n",
    "\n",
    "plt.title('Monthly Revenue Trend')\n",
    "plt.xlabel('Month')\n",
    "plt.ylabel('Total Revenue (£)')\n",
    "plt.xticks(rotation=45)\n",
    "plt.tight_layout()\n",
    "plt.grid(True)\n",
    "plt.show()\n"
   ]
  },
  {
   "cell_type": "code",
   "execution_count": 89,
   "id": "4f9d3544-c329-4475-940f-6a8f15e3e6ed",
   "metadata": {},
   "outputs": [
    {
     "data": {
      "image/png": "[encoded data removed]",
      "text/plain": [
       "<Figure size 1000x600 with 1 Axes>"
      ]
     },
     "metadata": {},
     "output_type": "display_data"
    }
   ],
   "source": [
    "# Group by Description and sum Quantity\n",
    "top_products = df_cleaned.groupby('Description')['Quantity'].sum().reset_index()\n",
    "\n",
    "# Sort by Quantity in descending order\n",
    "top_products = top_products.sort_values(by='Quantity', ascending=False)\n",
    "top_10_products = top_products.head(10)\n",
    "plt.figure(figsize=(10, 6))\n",
    "sns.barplot(data=top_10_products, x='Quantity', y='Description', palette='Blues_d')\n",
    "\n",
    "plt.title('Top 10 Best-Selling Products')\n",
    "plt.xlabel('Total Quantity Sold')\n",
    "plt.ylabel('Product')\n",
    "plt.tight_layout()\n",
    "plt.show()"
   ]
  },
  {
   "cell_type": "code",
   "execution_count": 90,
   "id": "f5d7e420-6503-428a-8087-7ce3cf898f8a",
   "metadata": {},
   "outputs": [
    {
     "data": {
      "image/png": "[encoded data removed]",
      "text/plain": [
       "<Figure size 1000x600 with 1 Axes>"
      ]
     },
     "metadata": {},
     "output_type": "display_data"
    }
   ],
   "source": [
    "# Group by Country and sum TotalPrice\n",
    "revenue_by_country = df_cleaned.groupby('Country')['TotalPrice'].sum().reset_index()\n",
    "\n",
    "# Sort in descending order\n",
    "revenue_by_country = revenue_by_country.sort_values(by='TotalPrice', ascending=False)\n",
    "\n",
    "top_10_countries = revenue_by_country.head(10)\n",
    "\n",
    "plt.figure(figsize=(10, 6))\n",
    "sns.barplot(data=top_10_countries, x='TotalPrice', y='Country', palette='Greens_d')\n",
    "\n",
    "plt.title('Top 10 Countries by Revenue')\n",
    "plt.xlabel('Total Revenue (£)')\n",
    "plt.ylabel('Country')\n",
    "plt.tight_layout()\n",
    "plt.show()\n"
   ]
  },
  {
   "cell_type": "code",
   "execution_count": 91,
   "id": "4ed42204-9234-4fa6-8e63-0e30bdee45f2",
   "metadata": {},
   "outputs": [],
   "source": [
    "with pd.ExcelWriter(\"Ecommerce_Cleaned.xlsx\", engine='openpyxl') as writer:\n",
    "    df_raw.to_excel(writer, sheet_name=\"Raw_Data\", index=False)\n",
    "    df_cleaned.to_excel(writer, sheet_name=\"Cleaned_Data\", index=False)"
   ]
  },
  {
   "cell_type": "code",
   "execution_count": null,
   "id": "2837926e-0076-4b68-8c3d-4d19c6b05e6d",
   "metadata": {},
   "outputs": [],
   "source": []
  }
 ],
 "metadata": {
  "kernelspec": {
   "display_name": "Python 3 (ipykernel)",
   "language": "python",
   "name": "python3"
  },
  "language_info": {
   "codemirror_mode": {
    "name": "ipython",
    "version": 3
   },
   "file_extension": ".py",
   "mimetype": "text/x-python",
   "name": "python",
   "nbconvert_exporter": "python",
   "pygments_lexer": "ipython3",
   "version": "3.11.7"
  }
 },
 "nbformat": 4,
 "nbformat_minor": 5
}
